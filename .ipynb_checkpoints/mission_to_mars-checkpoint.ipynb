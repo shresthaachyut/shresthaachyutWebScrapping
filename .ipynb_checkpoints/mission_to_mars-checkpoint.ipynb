{
 "cells": [
  {
   "cell_type": "code",
   "execution_count": 1,
   "metadata": {},
   "outputs": [],
   "source": [
    "from splinter import Browser\n",
    "from splinter.exceptions import ElementDoesNotExist\n",
    "\n",
    "import numpy as np\n",
    "from bs4 import BeautifulSoup\n",
    "import pandas as pd\n",
    "import requests"
   ]
  },
  {
   "cell_type": "code",
   "execution_count": 2,
   "metadata": {},
   "outputs": [],
   "source": [
    "executable_path = {'executable_path': 'Resources/chromedriver.exe'}\n",
    "browser = Browser('chrome', **executable_path, headless=False)"
   ]
  },
  {
   "cell_type": "code",
   "execution_count": 3,
   "metadata": {},
   "outputs": [],
   "source": [
    "url1 = 'https://mars.nasa.gov/news/?page=0&per_page=40&order=publish_date+desc%2Ccreated_at+desc&search=&category=19%2C165%2C184%2C204&blank_scope=Latest'\n",
    "browser.visit(url1)"
   ]
  },
  {
   "cell_type": "code",
   "execution_count": 4,
   "metadata": {},
   "outputs": [],
   "source": [
    "news_title = []\n",
    "news_para = []"
   ]
  },
  {
   "cell_type": "markdown",
   "metadata": {},
   "source": [
    "# 1.1 Scraping News Title and Paragraphs"
   ]
  },
  {
   "cell_type": "code",
   "execution_count": 5,
   "metadata": {},
   "outputs": [
    {
     "name": "stdout",
     "output_type": "stream",
     "text": [
      "Scraping Complete\n"
     ]
    }
   ],
   "source": [
    "for pages in range(1):\n",
    "    html = browser.html\n",
    "    soup = BeautifulSoup(html, 'html.parser')\n",
    "    titles = soup.find_all(class_ = 'content_title')\n",
    "    paragraphs = soup.find_all(class_ = 'article_teaser_body')\n",
    "    for title in titles:    \n",
    "        news_title.append(title.a.text)\n",
    "        \n",
    "    for paragraph in paragraphs:\n",
    "        news_para.append(paragraph.text)\n",
    "        \n",
    "    \n",
    "        \n",
    "    try:\n",
    "        browser.click_link_by_partial_text('MORE')\n",
    "          \n",
    "    except:\n",
    "        print(\"Scraping Complete\")"
   ]
  },
  {
   "cell_type": "code",
   "execution_count": 6,
   "metadata": {
    "scrolled": false
   },
   "outputs": [],
   "source": [
    "np_news_title = np.unique(np.array(news_title))\n",
    "np_news_para = np.unique(np.array(news_para))"
   ]
  },
  {
   "cell_type": "code",
   "execution_count": 7,
   "metadata": {},
   "outputs": [
    {
     "data": {
      "text/plain": [
       "array(['\\nNASA Garners 7 Webby Award Nominations\\n',\n",
       "       '\\nNASA Invites Students to Name Mars 2020 Rover\\n',\n",
       "       \"\\nNASA's Curiosity Mars Rover Finds a Clay Cache\\n\",\n",
       "       \"\\nNASA's InSight Places First Instrument on Mars\\n\",\n",
       "       \"\\nNASA's Opportunity Rover Mission on Mars Comes to End\\n\",\n",
       "       '\\nWhy This Martian Full Moon Looks Like Candy\\n',\n",
       "       'A Neil Armstrong for Mars: Landing the Mars 2020 Rover',\n",
       "       'A Rover Pit Stop at JPL',\n",
       "       \"Common Questions about InSight's 'Mole'\",\n",
       "       \"Curiosity's Mars Methane Mystery Continues\",\n",
       "       'For InSight, Dust Cleanings Will Yield New Science',\n",
       "       \"Fueling of NASA's Mars 2020 Rover Power System Begins\",\n",
       "       \"InSight's Team Tries New Strategy to Help the 'Mole'\",\n",
       "       'Johnson-Built Device to Help Mars 2020 Rover Search for Signs of Life',\n",
       "       'MEDLI2 Installation on Mars 2020 Aeroshell Begins',\n",
       "       'Mars 2020 Rover Gets Its Wheels',\n",
       "       'Mars 2020 Rover Gets a Super Instrument',\n",
       "       \"Mars 2020 Rover's 7-Foot-Long Robotic Arm Installed\",\n",
       "       'Mars 2020 Rover: T-Minus One Year and Counting ',\n",
       "       \"NASA 'Optometrists' Verify Mars 2020 Rover's 20/20 Vision\",\n",
       "       'NASA Invites Public to Submit Names to Fly Aboard Next Mars Rover',\n",
       "       'NASA Invites Students to Name Mars 2020 Rover',\n",
       "       'NASA Racks Up Two Emmy Nominations for Mission Coverage',\n",
       "       \"NASA Selects Partners for Mars 2020 'Name the Rover' Contest, Seeks Judges\",\n",
       "       'NASA to Land in Mars, Pennsylvania to Celebrate Red Planet with STEAM',\n",
       "       \"NASA's Curiosity Mars Rover Finds a Clay Cache\",\n",
       "       \"NASA's InSight Uncovers the 'Mole' \",\n",
       "       \"NASA's MRO Completes 60,000 Trips Around Mars\",\n",
       "       \"NASA's Mars 2020 Gets a Dose of Space Here on Earth\",\n",
       "       \"NASA's Mars 2020 Rover Does Biceps Curls \",\n",
       "       \"NASA's Mars 2020 Will Blaze a Trail — for Humans\",\n",
       "       \"NASA's Mars Helicopter Attached to Mars 2020 Rover \",\n",
       "       \"NASA's Mars Helicopter Testing Enters Final Phase\",\n",
       "       \"NASA-JPL Names 'Rolling Stones Rock' on Mars\",\n",
       "       'New Finds for Mars Rover, Seven Years After Landing',\n",
       "       \"Robotic Toolkit Added to NASA's Mars 2020 Rover\",\n",
       "       'Scientists Explore Outback as Testbed for Mars ',\n",
       "       'Small Satellite Mission of the Year',\n",
       "       \"Space Samples Link NASA's Apollo 11 and Mars 2020\",\n",
       "       \"The Mast Is Raised for NASA's Mars 2020 Rover\",\n",
       "       'Video: Fly over Mount Sharp on Mars',\n",
       "       'Want to Colonize Mars? Aerogel Could Help',\n",
       "       'Watch NASA Build Its Next Mars Rover',\n",
       "       'What Does a Marsquake Look Like?',\n",
       "       \"What's Mars Solar Conjunction, and Why Does It Matter?\",\n",
       "       'Why This Martian Full Moon Looks Like Candy'], dtype='<U74')"
      ]
     },
     "execution_count": 7,
     "metadata": {},
     "output_type": "execute_result"
    }
   ],
   "source": [
    "np_news_title"
   ]
  },
  {
   "cell_type": "markdown",
   "metadata": {},
   "source": [
    "# 1.2 Get Images JPL Mars Space Images - Featured Image"
   ]
  },
  {
   "cell_type": "code",
   "execution_count": 8,
   "metadata": {},
   "outputs": [],
   "source": [
    "url2 = 'https://www.jpl.nasa.gov/spaceimages/?search=&category=Mars'\n",
    "browser.visit(url2)"
   ]
  },
  {
   "cell_type": "code",
   "execution_count": null,
   "metadata": {},
   "outputs": [],
   "source": [
    "featured_image_url = []"
   ]
  },
  {
   "cell_type": "code",
   "execution_count": null,
   "metadata": {},
   "outputs": [
    {
     "name": "stdout",
     "output_type": "stream",
     "text": [
      "Scraping Complete\n",
      "Scraping Complete\n",
      "Scraping Complete\n",
      "Scraping Complete\n",
      "Scraping Complete\n",
      "Scraping Complete\n",
      "Scraping Complete\n",
      "Scraping Complete\n",
      "Scraping Complete\n",
      "Scraping Complete\n",
      "Scraping Complete\n",
      "Scraping Complete\n",
      "Scraping Complete\n",
      "Scraping Complete\n",
      "Scraping Complete\n",
      "Scraping Complete\n",
      "Scraping Complete\n",
      "Scraping Complete\n",
      "Scraping Complete\n",
      "Scraping Complete\n",
      "Scraping Complete\n",
      "Scraping Complete\n",
      "Scraping Complete\n",
      "Scraping Complete\n",
      "Scraping Complete\n",
      "Scraping Complete\n",
      "Scraping Complete\n",
      "Scraping Complete\n",
      "Scraping Complete\n",
      "Scraping Complete\n",
      "Scraping Complete\n",
      "Scraping Complete\n",
      "Scraping Complete\n",
      "Scraping Complete\n",
      "Scraping Complete\n",
      "Scraping Complete\n",
      "Scraping Complete\n",
      "Scraping Complete\n",
      "Scraping Complete\n",
      "Scraping Complete\n"
     ]
    }
   ],
   "source": [
    "for pages in range(50):\n",
    "    html = browser.html\n",
    "    soup = BeautifulSoup(html, 'html.parser')\n",
    "    #div class=\"fancybox-inner fancybox-skin fancybox-dark-skin fancybox-dark-skin-open\"\n",
    "    url_imgs = soup.find_all(class_ = 'img')\n",
    "    #url_imgs = soup.find_all(class_ = \"fancybox-inner fancybox-skin fancybox-dark-skin fancybox-dark-skin-open\")\n",
    "    \n",
    "    for url_img in url_imgs:    \n",
    "        image = url_img.img['src']\n",
    "        featured_image_url.append('https://www.jpl.nasa.gov' + image)\n",
    "        \n",
    "            # Click the 'MORE' button on each page\n",
    "    try:\n",
    "        browser.click_link_by_partial_text('Next')\n",
    "        #browser.click_link_by_id('$0')\n",
    "                 \n",
    "    except:\n",
    "        print(\"Scraping Complete\")"
   ]
  },
  {
   "cell_type": "code",
   "execution_count": null,
   "metadata": {},
   "outputs": [],
   "source": [
    "np_featured_image_url = np.unique(np.array(featured_image_url))\n"
   ]
  },
  {
   "cell_type": "markdown",
   "metadata": {},
   "source": [
    "# 1.3 Mars Weather"
   ]
  },
  {
   "cell_type": "code",
   "execution_count": null,
   "metadata": {},
   "outputs": [],
   "source": [
    "url3 = 'https://twitter.com/marswxreport?lang=en'"
   ]
  },
  {
   "cell_type": "code",
   "execution_count": null,
   "metadata": {},
   "outputs": [],
   "source": [
    "# Retrieve page with the requests module\n",
    "response = requests.get(url3)"
   ]
  },
  {
   "cell_type": "code",
   "execution_count": null,
   "metadata": {},
   "outputs": [],
   "source": [
    "soup = BeautifulSoup(response.text, 'html.parser')\n"
   ]
  },
  {
   "cell_type": "code",
   "execution_count": null,
   "metadata": {},
   "outputs": [],
   "source": [
    "# Example:\n",
    "mars_weather = []"
   ]
  },
  {
   "cell_type": "code",
   "execution_count": null,
   "metadata": {},
   "outputs": [],
   "source": [
    "# results are returned as an iterable list\n",
    "results = soup.find_all('div', class_=\"js-tweet-text-container\")"
   ]
  },
  {
   "cell_type": "code",
   "execution_count": null,
   "metadata": {},
   "outputs": [],
   "source": [
    "# Loop through returned results\n",
    "for result in results:\n",
    "    # Error handling\n",
    "    try:\n",
    "        # Identify and return title of listing\n",
    "        weather = result.p.text\n",
    "        # Identify and return price of listing\n",
    "        mars_weather.append(weather)\n",
    "    except AttributeError as e:\n",
    "        print(e)"
   ]
  },
  {
   "cell_type": "code",
   "execution_count": null,
   "metadata": {},
   "outputs": [],
   "source": [
    "mars_weather[1]"
   ]
  },
  {
   "cell_type": "markdown",
   "metadata": {},
   "source": [
    "# 1.4 Mars Facts"
   ]
  },
  {
   "cell_type": "code",
   "execution_count": null,
   "metadata": {},
   "outputs": [],
   "source": [
    "url4 = 'https://space-facts.com/mars/'\n",
    "marsFacts = pd.read_html(url4)[0]"
   ]
  },
  {
   "cell_type": "code",
   "execution_count": null,
   "metadata": {},
   "outputs": [],
   "source": [
    "marsFacts.drop(columns = 'Earth', inplace = True)\n",
    "marsFacts.columns = ['MarsFacts', 'Value']"
   ]
  },
  {
   "cell_type": "code",
   "execution_count": null,
   "metadata": {},
   "outputs": [],
   "source": [
    "marsFacts.head()"
   ]
  },
  {
   "cell_type": "markdown",
   "metadata": {},
   "source": [
    "# 1.5 Mars Hemispheres"
   ]
  },
  {
   "cell_type": "code",
   "execution_count": null,
   "metadata": {},
   "outputs": [],
   "source": [
    "url5 = 'https://astrogeology.usgs.gov/search/results?q=hemisphere+enhanced&k1=target&v1=Mars'\n",
    "browser.visit(url5)"
   ]
  },
  {
   "cell_type": "code",
   "execution_count": null,
   "metadata": {},
   "outputs": [],
   "source": [
    "image_url = []\n",
    "title = []"
   ]
  },
  {
   "cell_type": "code",
   "execution_count": null,
   "metadata": {},
   "outputs": [],
   "source": [
    "href_container = []\n",
    "\n",
    "html = browser.html\n",
    "soup = BeautifulSoup(html, 'html.parser')\n",
    "href_url_divs = soup.find_all('div', class_ = 'item')\n",
    "for div in href_url_divs:\n",
    "    href_container.append('https://astrogeology.usgs.gov' + div.a['href'])\n",
    "    \n",
    "for links in href_container:\n",
    "    try:\n",
    "        browser.visit(links)\n",
    "        html = browser.html\n",
    "        soup = BeautifulSoup(html, 'html.parser')\n",
    "        browser.click_link_by_partial_text('Open')\n",
    "        img = soup.find('img', class_ = 'wide-image')\n",
    "        title = soup.find('h2', class_ = 'title')\n",
    "        print(img)\n",
    "        image_url.append({'title': title.text.replace(' Enhanced',''),'img_url' : 'https://astrogeology.usgs.gov/' + img['src']})\n",
    "    except:\n",
    "        print('scraping complete')\n"
   ]
  },
  {
   "cell_type": "code",
   "execution_count": null,
   "metadata": {},
   "outputs": [],
   "source": [
    "scrapped = {\n",
    "        'NewsTitle': np_news_title,\n",
    "        'NewsParagraps' : np_news_para,\n",
    "        'FeaturedImages' : np_featured_image_url,\n",
    "        'Facts': marsFacts,\n",
    "        'Weather': mars_weather,\n",
    "        'Hemispheres': image_url\n",
    "    }"
   ]
  },
  {
   "cell_type": "code",
   "execution_count": null,
   "metadata": {},
   "outputs": [],
   "source": []
  }
 ],
 "metadata": {
  "kernelspec": {
   "display_name": "Python 3",
   "language": "python",
   "name": "python3"
  },
  "language_info": {
   "codemirror_mode": {
    "name": "ipython",
    "version": 3
   },
   "file_extension": ".py",
   "mimetype": "text/x-python",
   "name": "python",
   "nbconvert_exporter": "python",
   "pygments_lexer": "ipython3",
   "version": "3.7.3"
  }
 },
 "nbformat": 4,
 "nbformat_minor": 2
}

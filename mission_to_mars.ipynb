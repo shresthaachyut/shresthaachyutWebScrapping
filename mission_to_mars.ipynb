{
 "cells": [
  {
   "cell_type": "code",
   "execution_count": 1,
   "metadata": {},
   "outputs": [],
   "source": [
    "from splinter import Browser\n",
    "from splinter.exceptions import ElementDoesNotExist\n",
    "\n",
    "import numpy as np\n",
    "from bs4 import BeautifulSoup\n",
    "import pandas as pd\n",
    "import requests"
   ]
  },
  {
   "cell_type": "code",
   "execution_count": 2,
   "metadata": {},
   "outputs": [],
   "source": [
    "executable_path = {'executable_path': 'Resources/chromedriver.exe'}\n",
    "browser = Browser('chrome', **executable_path, headless=False)"
   ]
  },
  {
   "cell_type": "code",
   "execution_count": 3,
   "metadata": {},
   "outputs": [],
   "source": [
    "url1 = 'https://mars.nasa.gov/news/?page=0&per_page=40&order=publish_date+desc%2Ccreated_at+desc&search=&category=19%2C165%2C184%2C204&blank_scope=Latest'\n",
    "browser.visit(url1)"
   ]
  },
  {
   "cell_type": "code",
   "execution_count": 4,
   "metadata": {},
   "outputs": [],
   "source": [
    "news_title = []\n",
    "news_para = []"
   ]
  },
  {
   "cell_type": "markdown",
   "metadata": {},
   "source": [
    "# 1.1 Scraping News Title and Paragraphs"
   ]
  },
  {
   "cell_type": "code",
   "execution_count": 5,
   "metadata": {},
   "outputs": [
    {
     "name": "stdout",
     "output_type": "stream",
     "text": [
      "Scraping Complete\n"
     ]
    }
   ],
   "source": [
    "for pages in range(1):\n",
    "    html = browser.html\n",
    "    soup = BeautifulSoup(html, 'html.parser')\n",
    "    titles = soup.find_all(class_ = 'content_title')\n",
    "    paragraphs = soup.find_all(class_ = 'article_teaser_body')\n",
    "    for title in titles:    \n",
    "        news_title.append(title.a.text)\n",
    "        \n",
    "    for paragraph in paragraphs:\n",
    "        news_para.append(paragraph.text)\n",
    "        \n",
    "    \n",
    "        \n",
    "    try:\n",
    "        browser.click_link_by_partial_text('MORE')\n",
    "          \n",
    "    except:\n",
    "        print(\"Scraping Complete\")"
   ]
  },
  {
   "cell_type": "code",
   "execution_count": 6,
   "metadata": {
    "scrolled": false
   },
   "outputs": [],
   "source": [
    "np_news_title = np.unique(np.array(news_title))\n",
    "np_news_para = np.unique(np.array(news_para))"
   ]
  },
  {
   "cell_type": "code",
   "execution_count": 7,
   "metadata": {},
   "outputs": [
    {
     "data": {
      "text/plain": [
       "array(['\\nNASA Garners 7 Webby Award Nominations\\n',\n",
       "       '\\nNASA Invites Students to Name Mars 2020 Rover\\n',\n",
       "       \"\\nNASA's Curiosity Mars Rover Finds a Clay Cache\\n\",\n",
       "       \"\\nNASA's InSight Places First Instrument on Mars\\n\",\n",
       "       \"\\nNASA's Opportunity Rover Mission on Mars Comes to End\\n\",\n",
       "       '\\nWhy This Martian Full Moon Looks Like Candy\\n',\n",
       "       'A Neil Armstrong for Mars: Landing the Mars 2020 Rover',\n",
       "       'A Rover Pit Stop at JPL',\n",
       "       \"Common Questions about InSight's 'Mole'\",\n",
       "       \"Curiosity's Mars Methane Mystery Continues\",\n",
       "       'For InSight, Dust Cleanings Will Yield New Science',\n",
       "       \"Fueling of NASA's Mars 2020 Rover Power System Begins\",\n",
       "       \"InSight's Team Tries New Strategy to Help the 'Mole'\",\n",
       "       'Johnson-Built Device to Help Mars 2020 Rover Search for Signs of Life',\n",
       "       'MEDLI2 Installation on Mars 2020 Aeroshell Begins',\n",
       "       'Mars 2020 Rover Gets Its Wheels',\n",
       "       'Mars 2020 Rover Gets a Super Instrument',\n",
       "       \"Mars 2020 Rover's 7-Foot-Long Robotic Arm Installed\",\n",
       "       'Mars 2020 Rover: T-Minus One Year and Counting ',\n",
       "       \"NASA 'Optometrists' Verify Mars 2020 Rover's 20/20 Vision\",\n",
       "       'NASA Invites Public to Submit Names to Fly Aboard Next Mars Rover',\n",
       "       'NASA Invites Students to Name Mars 2020 Rover',\n",
       "       'NASA Racks Up Two Emmy Nominations for Mission Coverage',\n",
       "       \"NASA Selects Partners for Mars 2020 'Name the Rover' Contest, Seeks Judges\",\n",
       "       'NASA to Land in Mars, Pennsylvania to Celebrate Red Planet with STEAM',\n",
       "       \"NASA's Curiosity Mars Rover Finds a Clay Cache\",\n",
       "       \"NASA's InSight Uncovers the 'Mole' \",\n",
       "       \"NASA's MRO Completes 60,000 Trips Around Mars\",\n",
       "       \"NASA's Mars 2020 Gets a Dose of Space Here on Earth\",\n",
       "       \"NASA's Mars 2020 Rover Does Biceps Curls \",\n",
       "       \"NASA's Mars 2020 Will Blaze a Trail — for Humans\",\n",
       "       \"NASA's Mars Helicopter Attached to Mars 2020 Rover \",\n",
       "       \"NASA's Mars Helicopter Testing Enters Final Phase\",\n",
       "       \"NASA-JPL Names 'Rolling Stones Rock' on Mars\",\n",
       "       'New Finds for Mars Rover, Seven Years After Landing',\n",
       "       \"Robotic Toolkit Added to NASA's Mars 2020 Rover\",\n",
       "       'Scientists Explore Outback as Testbed for Mars ',\n",
       "       'Small Satellite Mission of the Year',\n",
       "       \"Space Samples Link NASA's Apollo 11 and Mars 2020\",\n",
       "       \"The Mast Is Raised for NASA's Mars 2020 Rover\",\n",
       "       'Video: Fly over Mount Sharp on Mars',\n",
       "       'Want to Colonize Mars? Aerogel Could Help',\n",
       "       'Watch NASA Build Its Next Mars Rover',\n",
       "       'What Does a Marsquake Look Like?',\n",
       "       \"What's Mars Solar Conjunction, and Why Does It Matter?\",\n",
       "       'Why This Martian Full Moon Looks Like Candy'], dtype='<U74')"
      ]
     },
     "execution_count": 7,
     "metadata": {},
     "output_type": "execute_result"
    }
   ],
   "source": [
    "np_news_title"
   ]
  },
  {
   "cell_type": "markdown",
   "metadata": {},
   "source": [
    "# 1.2 Get Images JPL Mars Space Images - Featured Image"
   ]
  },
  {
   "cell_type": "code",
   "execution_count": 8,
   "metadata": {},
   "outputs": [],
   "source": [
    "url2 = 'https://www.jpl.nasa.gov/spaceimages/?search=&category=Mars'\n",
    "browser.visit(url2)"
   ]
  },
  {
   "cell_type": "code",
   "execution_count": 9,
   "metadata": {},
   "outputs": [],
   "source": [
    "featured_image_url = []"
   ]
  },
  {
   "cell_type": "code",
   "execution_count": 10,
   "metadata": {},
   "outputs": [
    {
     "name": "stdout",
     "output_type": "stream",
     "text": [
      "Scraping Complete\n",
      "Scraping Complete\n",
      "Scraping Complete\n",
      "Scraping Complete\n",
      "Scraping Complete\n",
      "Scraping Complete\n",
      "Scraping Complete\n",
      "Scraping Complete\n",
      "Scraping Complete\n",
      "Scraping Complete\n",
      "Scraping Complete\n",
      "Scraping Complete\n",
      "Scraping Complete\n",
      "Scraping Complete\n",
      "Scraping Complete\n",
      "Scraping Complete\n",
      "Scraping Complete\n",
      "Scraping Complete\n",
      "Scraping Complete\n",
      "Scraping Complete\n",
      "Scraping Complete\n",
      "Scraping Complete\n",
      "Scraping Complete\n",
      "Scraping Complete\n",
      "Scraping Complete\n",
      "Scraping Complete\n",
      "Scraping Complete\n",
      "Scraping Complete\n",
      "Scraping Complete\n",
      "Scraping Complete\n",
      "Scraping Complete\n",
      "Scraping Complete\n",
      "Scraping Complete\n",
      "Scraping Complete\n",
      "Scraping Complete\n",
      "Scraping Complete\n",
      "Scraping Complete\n",
      "Scraping Complete\n",
      "Scraping Complete\n",
      "Scraping Complete\n",
      "Scraping Complete\n",
      "Scraping Complete\n",
      "Scraping Complete\n",
      "Scraping Complete\n",
      "Scraping Complete\n",
      "Scraping Complete\n",
      "Scraping Complete\n",
      "Scraping Complete\n",
      "Scraping Complete\n",
      "Scraping Complete\n"
     ]
    }
   ],
   "source": [
    "for pages in range(50):\n",
    "    html = browser.html\n",
    "    soup = BeautifulSoup(html, 'html.parser')\n",
    "    #div class=\"fancybox-inner fancybox-skin fancybox-dark-skin fancybox-dark-skin-open\"\n",
    "    url_imgs = soup.find_all(class_ = 'img')\n",
    "    #url_imgs = soup.find_all(class_ = \"fancybox-inner fancybox-skin fancybox-dark-skin fancybox-dark-skin-open\")\n",
    "    \n",
    "    for url_img in url_imgs:    \n",
    "        image = url_img.img['src']\n",
    "        featured_image_url.append('https://www.jpl.nasa.gov' + image)\n",
    "        \n",
    "            # Click the 'MORE' button on each page\n",
    "    try:\n",
    "        browser.click_link_by_partial_text('Next')\n",
    "        #browser.click_link_by_id('$0')\n",
    "                 \n",
    "    except:\n",
    "        print(\"Scraping Complete\")"
   ]
  },
  {
   "cell_type": "code",
   "execution_count": 11,
   "metadata": {},
   "outputs": [],
   "source": [
    "np_featured_image_url = np.unique(np.array(featured_image_url))\n"
   ]
  },
  {
   "cell_type": "markdown",
   "metadata": {},
   "source": [
    "# 1.3 Mars Weather"
   ]
  },
  {
   "cell_type": "code",
   "execution_count": 12,
   "metadata": {},
   "outputs": [],
   "source": [
    "url3 = 'https://twitter.com/marswxreport?lang=en'"
   ]
  },
  {
   "cell_type": "code",
   "execution_count": 13,
   "metadata": {},
   "outputs": [],
   "source": [
    "# Retrieve page with the requests module\n",
    "response = requests.get(url3)"
   ]
  },
  {
   "cell_type": "code",
   "execution_count": 14,
   "metadata": {},
   "outputs": [],
   "source": [
    "soup = BeautifulSoup(response.text, 'html.parser')\n"
   ]
  },
  {
   "cell_type": "code",
   "execution_count": 15,
   "metadata": {},
   "outputs": [],
   "source": [
    "# Example:\n",
    "mars_weather = []"
   ]
  },
  {
   "cell_type": "code",
   "execution_count": 16,
   "metadata": {},
   "outputs": [],
   "source": [
    "# results are returned as an iterable list\n",
    "results = soup.find_all('div', class_=\"js-tweet-text-container\")"
   ]
  },
  {
   "cell_type": "code",
   "execution_count": 17,
   "metadata": {},
   "outputs": [],
   "source": [
    "# Loop through returned results\n",
    "for result in results:\n",
    "    # Error handling\n",
    "    try:\n",
    "        # Identify and return title of listing\n",
    "        weather = result.p.text\n",
    "        # Identify and return price of listing\n",
    "        mars_weather.append(weather)\n",
    "    except AttributeError as e:\n",
    "        print(e)"
   ]
  },
  {
   "cell_type": "code",
   "execution_count": 18,
   "metadata": {},
   "outputs": [
    {
     "data": {
      "text/plain": [
       "'InSight sol 265 (2019-08-25) low -99.4ºC (-146.9ºF) high -26.3ºC (-15.3ºF)\\nwinds from the SSE at 5.3 m/s (12.0 mph) gusting to 16.1 m/s (35.9 mph)\\npressure at 7.50 hPapic.twitter.com/9YLawm67zS'"
      ]
     },
     "execution_count": 18,
     "metadata": {},
     "output_type": "execute_result"
    }
   ],
   "source": [
    "mars_weather[1]"
   ]
  },
  {
   "cell_type": "markdown",
   "metadata": {},
   "source": [
    "# 1.4 Mars Facts"
   ]
  },
  {
   "cell_type": "code",
   "execution_count": 19,
   "metadata": {},
   "outputs": [],
   "source": [
    "url4 = 'https://space-facts.com/mars/'\n",
    "marsFacts = pd.read_html(url4)[0]"
   ]
  },
  {
   "cell_type": "code",
   "execution_count": 20,
   "metadata": {},
   "outputs": [],
   "source": [
    "marsFacts.drop(columns = 'Earth', inplace = True)\n",
    "marsFacts.columns = ['MarsFacts', 'Value']"
   ]
  },
  {
   "cell_type": "code",
   "execution_count": 21,
   "metadata": {},
   "outputs": [
    {
     "data": {
      "text/html": [
       "<div>\n",
       "<style scoped>\n",
       "    .dataframe tbody tr th:only-of-type {\n",
       "        vertical-align: middle;\n",
       "    }\n",
       "\n",
       "    .dataframe tbody tr th {\n",
       "        vertical-align: top;\n",
       "    }\n",
       "\n",
       "    .dataframe thead th {\n",
       "        text-align: right;\n",
       "    }\n",
       "</style>\n",
       "<table border=\"1\" class=\"dataframe\">\n",
       "  <thead>\n",
       "    <tr style=\"text-align: right;\">\n",
       "      <th></th>\n",
       "      <th>MarsFacts</th>\n",
       "      <th>Value</th>\n",
       "    </tr>\n",
       "  </thead>\n",
       "  <tbody>\n",
       "    <tr>\n",
       "      <th>0</th>\n",
       "      <td>Diameter:</td>\n",
       "      <td>6,779 km</td>\n",
       "    </tr>\n",
       "    <tr>\n",
       "      <th>1</th>\n",
       "      <td>Mass:</td>\n",
       "      <td>6.39 × 10^23 kg</td>\n",
       "    </tr>\n",
       "    <tr>\n",
       "      <th>2</th>\n",
       "      <td>Moons:</td>\n",
       "      <td>2</td>\n",
       "    </tr>\n",
       "    <tr>\n",
       "      <th>3</th>\n",
       "      <td>Distance from Sun:</td>\n",
       "      <td>227,943,824 km</td>\n",
       "    </tr>\n",
       "    <tr>\n",
       "      <th>4</th>\n",
       "      <td>Length of Year:</td>\n",
       "      <td>687 Earth days</td>\n",
       "    </tr>\n",
       "  </tbody>\n",
       "</table>\n",
       "</div>"
      ],
      "text/plain": [
       "            MarsFacts            Value\n",
       "0           Diameter:         6,779 km\n",
       "1               Mass:  6.39 × 10^23 kg\n",
       "2              Moons:                2\n",
       "3  Distance from Sun:   227,943,824 km\n",
       "4     Length of Year:   687 Earth days"
      ]
     },
     "execution_count": 21,
     "metadata": {},
     "output_type": "execute_result"
    }
   ],
   "source": [
    "marsFacts.head()"
   ]
  },
  {
   "cell_type": "markdown",
   "metadata": {},
   "source": [
    "# 1.5 Mars Hemispheres"
   ]
  },
  {
   "cell_type": "code",
   "execution_count": 22,
   "metadata": {},
   "outputs": [],
   "source": [
    "url5 = 'https://astrogeology.usgs.gov/search/results?q=hemisphere+enhanced&k1=target&v1=Mars'\n",
    "browser.visit(url5)"
   ]
  },
  {
   "cell_type": "code",
   "execution_count": 23,
   "metadata": {},
   "outputs": [],
   "source": [
    "image_url = []\n",
    "title = []"
   ]
  },
  {
   "cell_type": "code",
   "execution_count": 24,
   "metadata": {},
   "outputs": [
    {
     "name": "stdout",
     "output_type": "stream",
     "text": [
      "<img class=\"wide-image\" src=\"/cache/images/cfa62af2557222a02478f1fcd781d445_cerberus_enhanced.tif_full.jpg\"/>\n",
      "<img class=\"wide-image\" src=\"/cache/images/3cdd1cbf5e0813bba925c9030d13b62e_schiaparelli_enhanced.tif_full.jpg\"/>\n",
      "<img class=\"wide-image\" src=\"/cache/images/ae209b4e408bb6c3e67b6af38168cf28_syrtis_major_enhanced.tif_full.jpg\"/>\n",
      "<img class=\"wide-image\" src=\"/cache/images/7cf2da4bf549ed01c17f206327be4db7_valles_marineris_enhanced.tif_full.jpg\"/>\n"
     ]
    }
   ],
   "source": [
    "href_container = []\n",
    "\n",
    "html = browser.html\n",
    "soup = BeautifulSoup(html, 'html.parser')\n",
    "href_url_divs = soup.find_all('div', class_ = 'item')\n",
    "for div in href_url_divs:\n",
    "    href_container.append('https://astrogeology.usgs.gov' + div.a['href'])\n",
    "    \n",
    "for links in href_container:\n",
    "    try:\n",
    "        browser.visit(links)\n",
    "        html = browser.html\n",
    "        soup = BeautifulSoup(html, 'html.parser')\n",
    "        browser.click_link_by_partial_text('Open')\n",
    "        img = soup.find('img', class_ = 'wide-image')\n",
    "        title = soup.find('h2', class_ = 'title')\n",
    "        print(img)\n",
    "        image_url.append({'title': title.text.replace(' Enhanced',''),'img_url' : 'https://astrogeology.usgs.gov/' + img['src']})\n",
    "    except:\n",
    "        print('scraping complete')\n"
   ]
  },
  {
   "cell_type": "code",
   "execution_count": 28,
   "metadata": {},
   "outputs": [],
   "source": [
    "scrapped = {\n",
    "        'NewsTitle': np_news_title,\n",
    "        'NewsParagraps' : np_news_para,\n",
    "        'FeaturedImages' : np_featured_image_url,\n",
    "        'Facts': marsFacts,\n",
    "        'Weather': mars_weather,\n",
    "        'Hemispheres': image_url\n",
    "    }"
   ]
  },
  {
   "cell_type": "code",
   "execution_count": 30,
   "metadata": {},
   "outputs": [
    {
     "ename": "AttributeError",
     "evalue": "'dict' object has no attribute 'NewsTitle'",
     "output_type": "error",
     "traceback": [
      "\u001b[1;31m---------------------------------------------------------------------------\u001b[0m",
      "\u001b[1;31mAttributeError\u001b[0m                            Traceback (most recent call last)",
      "\u001b[1;32m<ipython-input-30-b5cd3bd17002>\u001b[0m in \u001b[0;36m<module>\u001b[1;34m\u001b[0m\n\u001b[1;32m----> 1\u001b[1;33m \u001b[0mscrapped\u001b[0m\u001b[1;33m.\u001b[0m\u001b[0mNewsTitle\u001b[0m\u001b[1;33m\u001b[0m\u001b[1;33m\u001b[0m\u001b[0m\n\u001b[0m",
      "\u001b[1;31mAttributeError\u001b[0m: 'dict' object has no attribute 'NewsTitle'"
     ]
    }
   ],
   "source": [
    "scrapped.NewsTitle"
   ]
  },
  {
   "cell_type": "code",
   "execution_count": null,
   "metadata": {},
   "outputs": [],
   "source": []
  }
 ],
 "metadata": {
  "kernelspec": {
   "display_name": "Python 3",
   "language": "python",
   "name": "python3"
  },
  "language_info": {
   "codemirror_mode": {
    "name": "ipython",
    "version": 3
   },
   "file_extension": ".py",
   "mimetype": "text/x-python",
   "name": "python",
   "nbconvert_exporter": "python",
   "pygments_lexer": "ipython3",
   "version": "3.7.3"
  }
 },
 "nbformat": 4,
 "nbformat_minor": 2
}
